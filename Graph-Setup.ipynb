{
 "cells": [
  {
   "cell_type": "markdown",
   "metadata": {},
   "source": [
    "# Graph Setup\n",
    "\n",
    "The following notebook will create 2 data sets. One data set will include the edge list for our social network graph. The other data set will include node attributes."
   ]
  },
  {
   "cell_type": "code",
   "execution_count": 1,
   "metadata": {},
   "outputs": [],
   "source": [
    "#Import libraries\n",
    "from pyspark.sql.functions import explode, col, size,  array_except\n",
    "import warnings\n",
    "import matplotlib.pyplot as plt\n",
    "\n",
    "warnings.filterwarnings(\"ignore\")"
   ]
  },
  {
   "cell_type": "code",
   "execution_count": 2,
   "metadata": {},
   "outputs": [],
   "source": [
    "#Run necessary notebooks\n",
    "%run Social_Networking_Project/Data-Retrieval.ipynb"
   ]
  },
  {
   "cell_type": "code",
   "execution_count": 3,
   "metadata": {},
   "outputs": [],
   "source": [
    "friend_count = user.select(\"user_id\", size(\"friends\").alias(\"friend_count\"))"
   ]
  },
  {
   "cell_type": "code",
   "execution_count": 4,
   "metadata": {},
   "outputs": [],
   "source": [
    "friend_multiple = friend_count.filter(col('friend_count')>1).cache()"
   ]
  },
  {
   "cell_type": "code",
   "execution_count": 5,
   "metadata": {},
   "outputs": [
    {
     "data": {
      "text/plain": [
       "[Row(user_id='qVc8ODYU5SZjKXVBgXdI7w', friend_count=14995),\n",
       " Row(user_id='j14WgRoU_-2ZE1aw1dXrJg', friend_count=4646)]"
      ]
     },
     "execution_count": 5,
     "metadata": {},
     "output_type": "execute_result"
    }
   ],
   "source": [
    "friend_multiple.take(2)"
   ]
  },
  {
   "cell_type": "code",
   "execution_count": 6,
   "metadata": {},
   "outputs": [],
   "source": [
    "friend_single = friend_count.filter(col('friend_count')==1)"
   ]
  },
  {
   "cell_type": "code",
   "execution_count": 7,
   "metadata": {},
   "outputs": [
    {
     "data": {
      "text/plain": [
       "[Row(user_id='n8bbgZJLENE4dC4E743ukQ', friend_count=1),\n",
       " Row(user_id='Je6-vkrCJxex_cmREVpLBw', friend_count=1)]"
      ]
     },
     "execution_count": 7,
     "metadata": {},
     "output_type": "execute_result"
    }
   ],
   "source": [
    "friend_single.take(2)"
   ]
  },
  {
   "cell_type": "code",
   "execution_count": 8,
   "metadata": {},
   "outputs": [],
   "source": [
    "friend_single_users = friend_single.select(\"user_id\").rdd.flatMap(lambda x: x).collect()"
   ]
  },
  {
   "cell_type": "code",
   "execution_count": null,
   "metadata": {},
   "outputs": [],
   "source": [
    "#Remove user ids from the friend list if they exist in the friend_single_users list\n",
    "user = user.withColumn(\"friends\", array_except(col(\"friends\"), friend_single_users))"
   ]
  },
  {
   "cell_type": "code",
   "execution_count": null,
   "metadata": {},
   "outputs": [],
   "source": [
    "#filter out users with 1 friend\n",
    "user = user.filter(~col(\"user_id\").isin(friend_single_users))"
   ]
  },
  {
   "cell_type": "code",
   "execution_count": null,
   "metadata": {},
   "outputs": [],
   "source": [
    "# Check if all users in the friends column exist in the user_id column\n",
    "all_exist = user.select(array_except(col(\"friends\"), col(\"user_id\"))).first()[0]\n",
    "\n",
    "if all_exist:\n",
    "    print(\"All users in the friends column exist in the user_id column.\")\n",
    "else:\n",
    "    print(\"Not all users in the friends column exist in the user_id column.\")"
   ]
  },
  {
   "cell_type": "code",
   "execution_count": null,
   "metadata": {},
   "outputs": [],
   "source": [
    "#obtain new counts\n",
    "friend_count = user.select(\"user_id\", size(\"friends\").alias(\"friend_count\"))"
   ]
  },
  {
   "cell_type": "code",
   "execution_count": 5,
   "metadata": {},
   "outputs": [
    {
     "data": {
      "image/png": "[encoded data removed]",
      "text/plain": [
       "<Figure size 720x432 with 1 Axes>"
      ]
     },
     "metadata": {
      "needs_background": "light"
     },
     "output_type": "display_data"
    }
   ],
   "source": [
    "#Distribution of friend counts with more than 1 friend\n",
    "friend_count_pd = friend_count.select(\"friend_count\").toPandas()\n",
    "threshold = friend_count_pd['friend_count'].quantile(0.99)\n",
    "friends_filter = friend_count_pd[friend_count_pd['friend_count'] <= threshold]\n",
    "# Plotting the distribution of friend counts\n",
    "plt.figure(figsize=(10, 6))\n",
    "plt.hist(friends_filter[\"friend_count\"], bins=30, edgecolor='k', alpha=0.7)\n",
    "plt.title('Distribution of Friend Counts with Friends Greater Than 1')\n",
    "plt.xlabel('Friend Count')\n",
    "plt.ylabel('Frequency')\n",
    "plt.grid(True)\n",
    "plt.savefig(\"Social_Networking_Project/friend_distribution.png\")\n",
    "plt.show()"
   ]
  },
  {
   "cell_type": "code",
   "execution_count": 7,
   "metadata": {},
   "outputs": [
    {
     "name": "stdout",
     "output_type": "stream",
     "text": [
      "count: 994243.0\n",
      "mean: 105.71899525568699\n",
      "std: 193.38376737642355\n",
      "min: 2.0\n",
      "25%: 12.0\n",
      "50%: 46.0\n",
      "75%: 128.0\n",
      "max: 14995.0\n"
     ]
    }
   ],
   "source": [
    "stats = friend_count_pd[\"friend_count\"].describe()\n",
    "for stat,value in stats.items():\n",
    "    print(f\"{stat}: {value}\")"
   ]
  },
  {
   "cell_type": "code",
   "execution_count": 30,
   "metadata": {},
   "outputs": [],
   "source": [
    "edgelist_df = user.select(user.user_id, explode(user.friends).alias('friend_id'))\n",
    "edgelist_df = edgelist_df.filter((edgelist_df.user_id != '') & (edgelist_df.friend_id != ''))\n",
    "edgelist_df = edgelist_df.dropDuplicates(['user_id', 'friend_id'])\n",
    "edgelist_renamed_df = edgelist_df.withColumnRenamed(\"user_id\", \"source\") \\\n",
    "                                 .withColumnRenamed(\"friend_id\", \"target\")"
   ]
  },
  {
   "cell_type": "code",
   "execution_count": 31,
   "metadata": {},
   "outputs": [
    {
     "name": "stdout",
     "output_type": "stream",
     "text": [
      "+--------------------+--------------------+\n",
      "|             user_id|           friend_id|\n",
      "+--------------------+--------------------+\n",
      "|---2PmXbF47D870st...|3vNQ9iRBMhlFGt2uX...|\n",
      "|---2PmXbF47D870st...|4QT83ZgRsTSNJzk_x...|\n",
      "|---2PmXbF47D870st...|r23IC1UybyeMYPNwU...|\n",
      "|--XsxD0sMPKjWzApq...|Kz3g9ajWKJliPuITA...|\n",
      "|--ZNfWKj1VyVElRx6...|--Hhvp8QDcsSa9MV5...|\n",
      "+--------------------+--------------------+\n",
      "\n"
     ]
    }
   ],
   "source": [
    "# Show the first few rows of the edgelist\n",
    "edgelist_df.limit(5).show()"
   ]
  },
  {
   "cell_type": "code",
   "execution_count": 32,
   "metadata": {},
   "outputs": [],
   "source": [
    "bucket_name =  'quagliam-bucket-milestone1' ### Change this to your bucket name\n",
    "proj_directory = f'gs://{bucket_name}/notebooks/jupyter/'"
   ]
  },
  {
   "cell_type": "code",
   "execution_count": null,
   "metadata": {},
   "outputs": [],
   "source": [
    "# Save the edgelist to a CSV file, if needed\n",
    "edgelist_df.write.csv(f'{proj_directory}/edgelist.csv', header=True)"
   ]
  }
 ],
 "metadata": {
  "kernelspec": {
   "display_name": "Python 3",
   "language": "python",
   "name": "python3"
  },
  "language_info": {
   "codemirror_mode": {
    "name": "ipython",
    "version": 3
   },
   "file_extension": ".py",
   "mimetype": "text/x-python",
   "name": "python",
   "nbconvert_exporter": "python",
   "pygments_lexer": "ipython3",
   "version": "3.7.4"
  }
 },
 "nbformat": 4,
 "nbformat_minor": 5
}
