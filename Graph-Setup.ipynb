{
 "cells": [
  {
   "cell_type": "markdown",
   "metadata": {},
   "source": [
    "# Graph Setup\n",
    "\n",
    "The following notebook will create 2 data sets. One data set will include the edge list for our social network graph. The other data set will include node attributes."
   ]
  },
  {
   "cell_type": "code",
   "execution_count": 39,
   "metadata": {},
   "outputs": [],
   "source": [
    "#Import libraries\n",
    "from pyspark.sql.functions import explode, col, size,  array_except, lit, broadcast, concat, sort_array, concat_ws\n",
    "import warnings\n",
    "import matplotlib.pyplot as plt\n",
    "\n",
    "warnings.filterwarnings(\"ignore\")"
   ]
  },
  {
   "cell_type": "code",
   "execution_count": 40,
   "metadata": {},
   "outputs": [],
   "source": [
    "#Run necessary notebooks\n",
    "%run Social_Networking_Project/Data-Retrieval.ipynb"
   ]
  },
  {
   "cell_type": "markdown",
   "metadata": {},
   "source": [
    "## Subset User to Smaller Dataframe"
   ]
  },
  {
   "cell_type": "code",
   "execution_count": 41,
   "metadata": {},
   "outputs": [],
   "source": [
    "user = user.select(\"user_id\", \"friends\", size(\"friends\").alias(\"friend_count\"))"
   ]
  },
  {
   "cell_type": "code",
   "execution_count": 42,
   "metadata": {},
   "outputs": [],
   "source": [
    "#Add to this to remove more users and subset graph data\n",
    "user = user.filter((col('friend_count') >= 128))\n",
    "user = user.select(\"user_id\", \"friends\").cache()"
   ]
  },
  {
   "cell_type": "code",
   "execution_count": 43,
   "metadata": {},
   "outputs": [
    {
     "data": {
      "text/html": [
       "<div>\n",
       "<style scoped>\n",
       "    .dataframe tbody tr th:only-of-type {\n",
       "        vertical-align: middle;\n",
       "    }\n",
       "\n",
       "    .dataframe tbody tr th {\n",
       "        vertical-align: top;\n",
       "    }\n",
       "\n",
       "    .dataframe thead th {\n",
       "        text-align: right;\n",
       "    }\n",
       "</style>\n",
       "<table border=\"1\" class=\"dataframe\">\n",
       "  <thead>\n",
       "    <tr style=\"text-align: right;\">\n",
       "      <th></th>\n",
       "      <th>user_id</th>\n",
       "      <th>friends</th>\n",
       "    </tr>\n",
       "  </thead>\n",
       "  <tbody>\n",
       "    <tr>\n",
       "      <th>0</th>\n",
       "      <td>qVc8ODYU5SZjKXVBgXdI7w</td>\n",
       "      <td>[NSCy54eWehBJyZdG2iE84w, pe42u7DcCH2QmI81NX-8q...</td>\n",
       "    </tr>\n",
       "    <tr>\n",
       "      <th>1</th>\n",
       "      <td>j14WgRoU_-2ZE1aw1dXrJg</td>\n",
       "      <td>[ueRPE0CX75ePGMqOFVj6IQ, 52oH4DrRvzzl8wh5UXyU0...</td>\n",
       "    </tr>\n",
       "    <tr>\n",
       "      <th>2</th>\n",
       "      <td>2WnXYQFK0hXEoTxPtV2zvg</td>\n",
       "      <td>[LuO3Bn4f3rlhyHIaNfTlnA, j9B4XdHUhDfTKVecyWQgy...</td>\n",
       "    </tr>\n",
       "    <tr>\n",
       "      <th>3</th>\n",
       "      <td>SZDeASXq7o05mMNLshsdIA</td>\n",
       "      <td>[enx1vVPnfdNUdPho6PH_wg, 4wOcvMLtU6a9Lslggq74V...</td>\n",
       "    </tr>\n",
       "    <tr>\n",
       "      <th>4</th>\n",
       "      <td>q_QQ5kBBwlCcbL1s4NVK3g</td>\n",
       "      <td>[xBDpTUbai0DXrvxCe3X16Q, 7GPNBO496aecrjJfW6UWt...</td>\n",
       "    </tr>\n",
       "  </tbody>\n",
       "</table>\n",
       "</div>"
      ],
      "text/plain": [
       "                  user_id                                            friends\n",
       "0  qVc8ODYU5SZjKXVBgXdI7w  [NSCy54eWehBJyZdG2iE84w, pe42u7DcCH2QmI81NX-8q...\n",
       "1  j14WgRoU_-2ZE1aw1dXrJg  [ueRPE0CX75ePGMqOFVj6IQ, 52oH4DrRvzzl8wh5UXyU0...\n",
       "2  2WnXYQFK0hXEoTxPtV2zvg  [LuO3Bn4f3rlhyHIaNfTlnA, j9B4XdHUhDfTKVecyWQgy...\n",
       "3  SZDeASXq7o05mMNLshsdIA  [enx1vVPnfdNUdPho6PH_wg, 4wOcvMLtU6a9Lslggq74V...\n",
       "4  q_QQ5kBBwlCcbL1s4NVK3g  [xBDpTUbai0DXrvxCe3X16Q, 7GPNBO496aecrjJfW6UWt..."
      ]
     },
     "execution_count": 43,
     "metadata": {},
     "output_type": "execute_result"
    }
   ],
   "source": [
    "user.limit(5).toPandas()"
   ]
  },
  {
   "cell_type": "code",
   "execution_count": 44,
   "metadata": {},
   "outputs": [
    {
     "data": {
      "text/plain": [
       "250261"
      ]
     },
     "execution_count": 44,
     "metadata": {},
     "output_type": "execute_result"
    }
   ],
   "source": [
    "user.count()"
   ]
  },
  {
   "cell_type": "markdown",
   "metadata": {},
   "source": [
    "## Create Edgelist"
   ]
  },
  {
   "cell_type": "code",
   "execution_count": 45,
   "metadata": {},
   "outputs": [],
   "source": [
    "edgelist_df = user.select(user.user_id, explode(user.friends).alias('friend_id'))\n",
    "edgelist_df = edgelist_df.filter((edgelist_df.user_id != '') & (edgelist_df.friend_id != ''))\n",
    "edgelist_df = edgelist_df.dropDuplicates(['user_id', 'friend_id'])\n",
    "edgelist_df = edgelist_df.withColumnRenamed(\"user_id\", \"source\") \\\n",
    "                         .withColumnRenamed(\"friend_id\", \"target\").cache()\n",
    "\n",
    "# Sort the values of \"source\" and \"target\" columns within an array\n",
    "sorted_values = sort_array(array([col(\"source\"), col(\"target\")]))\n",
    "\n",
    "# Concatenate the sorted values with \"_\" delimiter to create a new column \"sorted_pair\"\n",
    "edgelist_df = edgelist_df.withColumn(\"sorted_pair\", concat_ws(\"_\", sorted_values))\n",
    "\n",
    "# Drop duplicates based on the sorted source and target IDs\n",
    "edgelist_df = edgelist_df.dropDuplicates([\"sorted_pair\"])\n",
    "\n",
    "# Drop the temporary \"sorted_pair\" column\n",
    "edgelist_df = edgelist_df.drop(\"sorted_pair\")"
   ]
  },
  {
   "cell_type": "code",
   "execution_count": 46,
   "metadata": {},
   "outputs": [
    {
     "data": {
      "text/html": [
       "<div>\n",
       "<style scoped>\n",
       "    .dataframe tbody tr th:only-of-type {\n",
       "        vertical-align: middle;\n",
       "    }\n",
       "\n",
       "    .dataframe tbody tr th {\n",
       "        vertical-align: top;\n",
       "    }\n",
       "\n",
       "    .dataframe thead th {\n",
       "        text-align: right;\n",
       "    }\n",
       "</style>\n",
       "<table border=\"1\" class=\"dataframe\">\n",
       "  <thead>\n",
       "    <tr style=\"text-align: right;\">\n",
       "      <th></th>\n",
       "      <th>source</th>\n",
       "      <th>target</th>\n",
       "    </tr>\n",
       "  </thead>\n",
       "  <tbody>\n",
       "    <tr>\n",
       "      <th>0</th>\n",
       "      <td>---1lKK3aKOuomHnwAkAow</td>\n",
       "      <td>2dmmcoVBtuRslsnrQmou-w</td>\n",
       "    </tr>\n",
       "    <tr>\n",
       "      <th>1</th>\n",
       "      <td>---1lKK3aKOuomHnwAkAow</td>\n",
       "      <td>ARxU6bQVS5_0BMt_S3b6Pw</td>\n",
       "    </tr>\n",
       "    <tr>\n",
       "      <th>2</th>\n",
       "      <td>---1lKK3aKOuomHnwAkAow</td>\n",
       "      <td>P8f082TQp9D9Bz67bvcRYQ</td>\n",
       "    </tr>\n",
       "    <tr>\n",
       "      <th>3</th>\n",
       "      <td>---1lKK3aKOuomHnwAkAow</td>\n",
       "      <td>S6fNDUu3zafkBpdQ-Z6ftg</td>\n",
       "    </tr>\n",
       "    <tr>\n",
       "      <th>4</th>\n",
       "      <td>---1lKK3aKOuomHnwAkAow</td>\n",
       "      <td>kRNvuO4vmX1aS6iFfzYIWg</td>\n",
       "    </tr>\n",
       "  </tbody>\n",
       "</table>\n",
       "</div>"
      ],
      "text/plain": [
       "                   source                  target\n",
       "0  ---1lKK3aKOuomHnwAkAow  2dmmcoVBtuRslsnrQmou-w\n",
       "1  ---1lKK3aKOuomHnwAkAow  ARxU6bQVS5_0BMt_S3b6Pw\n",
       "2  ---1lKK3aKOuomHnwAkAow  P8f082TQp9D9Bz67bvcRYQ\n",
       "3  ---1lKK3aKOuomHnwAkAow  S6fNDUu3zafkBpdQ-Z6ftg\n",
       "4  ---1lKK3aKOuomHnwAkAow  kRNvuO4vmX1aS6iFfzYIWg"
      ]
     },
     "execution_count": 46,
     "metadata": {},
     "output_type": "execute_result"
    }
   ],
   "source": [
    "edgelist_df.limit(5).toPandas()"
   ]
  },
  {
   "cell_type": "code",
   "execution_count": 47,
   "metadata": {},
   "outputs": [
    {
     "data": {
      "text/plain": [
       "73249838"
      ]
     },
     "execution_count": 47,
     "metadata": {},
     "output_type": "execute_result"
    }
   ],
   "source": [
    "#Need to subset this still\n",
    "edgelist_df.count()"
   ]
  },
  {
   "cell_type": "markdown",
   "metadata": {},
   "source": [
    "## Subset Edgelist Dataframe to only Users within dataframe"
   ]
  },
  {
   "cell_type": "code",
   "execution_count": 48,
   "metadata": {},
   "outputs": [],
   "source": [
    "user_to_keep_array = user.select(\"user_id\")"
   ]
  },
  {
   "cell_type": "code",
   "execution_count": 49,
   "metadata": {},
   "outputs": [],
   "source": [
    "broadcast_user_to_keep_array = broadcast(user_to_keep_array)"
   ]
  },
  {
   "cell_type": "code",
   "execution_count": 50,
   "metadata": {},
   "outputs": [
    {
     "data": {
      "text/plain": [
       "250261"
      ]
     },
     "execution_count": 50,
     "metadata": {},
     "output_type": "execute_result"
    }
   ],
   "source": [
    "broadcast_user_to_keep_array.count()"
   ]
  },
  {
   "cell_type": "code",
   "execution_count": 51,
   "metadata": {},
   "outputs": [],
   "source": [
    "# Perform an inner join to mark the edges to be removed\n",
    "edgelist_df = edgelist_df.join(\n",
    "    broadcast_user_to_keep_array,\n",
    "    edgelist_df.target == broadcast_user_to_keep_array.user_id,\n",
    "    \"inner\"\n",
    ")\n",
    "edgelist_df = edgelist_df.drop(\"user_id\").cache()"
   ]
  },
  {
   "cell_type": "code",
   "execution_count": 68,
   "metadata": {},
   "outputs": [
    {
     "data": {
      "text/plain": [
       "248140"
      ]
     },
     "execution_count": 68,
     "metadata": {},
     "output_type": "execute_result"
    }
   ],
   "source": [
    "edgelist_df.select(col('source').alias('node')).union(edgelist_df.select(col('target').alias('node'))).distinct().count()"
   ]
  },
  {
   "cell_type": "code",
   "execution_count": 52,
   "metadata": {},
   "outputs": [
    {
     "name": "stdout",
     "output_type": "stream",
     "text": [
      "root\n",
      " |-- source: string (nullable = true)\n",
      " |-- target: string (nullable = true)\n",
      "\n"
     ]
    }
   ],
   "source": [
    "edgelist_df.printSchema()"
   ]
  },
  {
   "cell_type": "code",
   "execution_count": 53,
   "metadata": {},
   "outputs": [
    {
     "data": {
      "text/plain": [
       "4220898"
      ]
     },
     "execution_count": 53,
     "metadata": {},
     "output_type": "execute_result"
    }
   ],
   "source": [
    "edgelist_df.count()"
   ]
  },
  {
   "cell_type": "code",
   "execution_count": 69,
   "metadata": {},
   "outputs": [
    {
     "name": "stdout",
     "output_type": "stream",
     "text": [
      "Percentage of edges in the adjacency matrix: 0.01%\n"
     ]
    }
   ],
   "source": [
    "#Percentage of edges\n",
    "total_possible_edges = 248140*(248140-1)/2\n",
    "num_edges = 4220898\n",
    "print(\"Percentage of edges in the adjacency matrix: {:.2f}%\".format(((num_edges/total_possible_edges)*100)))"
   ]
  },
  {
   "cell_type": "code",
   "execution_count": 55,
   "metadata": {},
   "outputs": [],
   "source": [
    "reverse_edges = edgelist_df.select(col('target').alias('source'), col('source').alias('target'))\n",
    "undirected_edges = edgelist_df.union(reverse_edges)"
   ]
  },
  {
   "cell_type": "code",
   "execution_count": 56,
   "metadata": {},
   "outputs": [
    {
     "data": {
      "text/plain": [
       "8441796"
      ]
     },
     "execution_count": 56,
     "metadata": {},
     "output_type": "execute_result"
    }
   ],
   "source": [
    "undirected_edges.count()"
   ]
  },
  {
   "cell_type": "code",
   "execution_count": 57,
   "metadata": {},
   "outputs": [],
   "source": [
    "#write edgelist to a parquet file\n",
    "\n",
    "# Path to the folder containing Parquet partitions\n",
    "edges_single = f'{proj_directory}/edges_single.parquet'\n",
    "edges_double = f'{proj_directory}/edges_double.parquet'\n",
    "\n",
    "# Write DataFrame to a single Parquet file\n",
    "edgelist_df.write.parquet(edges_single, mode=\"overwrite\")\n",
    "undirected_edges.write.parquet(edges_double, mode=\"overwrite\")"
   ]
  },
  {
   "cell_type": "markdown",
   "metadata": {},
   "source": [
    "## Obtain Friend Distribution Count"
   ]
  },
  {
   "cell_type": "code",
   "execution_count": 58,
   "metadata": {},
   "outputs": [
    {
     "name": "stdout",
     "output_type": "stream",
     "text": [
      "+--------------------+--------------------+\n",
      "|              source|              target|\n",
      "+--------------------+--------------------+\n",
      "|---2PmXbF47D870st...|QksQOS03Dy38AQ3BJ...|\n",
      "|7an-zIbFKvGxjpeNN...|--2vR0DIsmQ6WfcSz...|\n",
      "|--2vR0DIsmQ6WfcSz...|Ariwz06at3CtbWZM-...|\n",
      "|--2vR0DIsmQ6WfcSz...|DwaaafwryFbW7C4E1...|\n",
      "|EiwxlbR8fb68lMgEX...|--2vR0DIsmQ6WfcSz...|\n",
      "|ZFICOFsXYo5I9_0UP...|--2vR0DIsmQ6WfcSz...|\n",
      "|--2vR0DIsmQ6WfcSz...|_9hHq2zFMMhfsnqzk...|\n",
      "|RBl0Kv_OMdJcfNCph...|--56mD0sm1eOogphi...|\n",
      "|--56mD0sm1eOogphi...|WV3rTWQeEDBJeVelL...|\n",
      "|f-iREBx-5CznQjIMW...|--56mD0sm1eOogphi...|\n",
      "+--------------------+--------------------+\n",
      "\n"
     ]
    }
   ],
   "source": [
    "#Read in the parquet file\n",
    "edges = spark.read.parquet(f\"{proj_directory}/edges_single.parquet\")\n",
    "edges_double = spark.read.parquet(f\"{proj_directory}/edges_double.parquet\")\n",
    "edges.limit(10).show()"
   ]
  },
  {
   "cell_type": "code",
   "execution_count": 59,
   "metadata": {},
   "outputs": [
    {
     "data": {
      "text/plain": [
       "248140"
      ]
     },
     "execution_count": 59,
     "metadata": {},
     "output_type": "execute_result"
    }
   ],
   "source": [
    "edges.select(col('source').alias('node')).union(edges.select(col('target').alias('node'))).distinct().count()"
   ]
  },
  {
   "cell_type": "code",
   "execution_count": 60,
   "metadata": {},
   "outputs": [
    {
     "data": {
      "text/plain": [
       "4220898"
      ]
     },
     "execution_count": 60,
     "metadata": {},
     "output_type": "execute_result"
    }
   ],
   "source": [
    "edges.count()"
   ]
  },
  {
   "cell_type": "code",
   "execution_count": 61,
   "metadata": {},
   "outputs": [
    {
     "data": {
      "text/plain": [
       "248140"
      ]
     },
     "execution_count": 61,
     "metadata": {},
     "output_type": "execute_result"
    }
   ],
   "source": [
    "edges_double.select(col('source').alias('node')).union(edges_double.select(col('target').alias('node'))).distinct().count()"
   ]
  },
  {
   "cell_type": "code",
   "execution_count": 62,
   "metadata": {},
   "outputs": [
    {
     "data": {
      "text/plain": [
       "8441796"
      ]
     },
     "execution_count": 62,
     "metadata": {},
     "output_type": "execute_result"
    }
   ],
   "source": [
    "edges_double.count()"
   ]
  },
  {
   "cell_type": "code",
   "execution_count": 63,
   "metadata": {},
   "outputs": [
    {
     "data": {
      "text/html": [
       "<div>\n",
       "<style scoped>\n",
       "    .dataframe tbody tr th:only-of-type {\n",
       "        vertical-align: middle;\n",
       "    }\n",
       "\n",
       "    .dataframe tbody tr th {\n",
       "        vertical-align: top;\n",
       "    }\n",
       "\n",
       "    .dataframe thead th {\n",
       "        text-align: right;\n",
       "    }\n",
       "</style>\n",
       "<table border=\"1\" class=\"dataframe\">\n",
       "  <thead>\n",
       "    <tr style=\"text-align: right;\">\n",
       "      <th></th>\n",
       "      <th>user</th>\n",
       "      <th>count</th>\n",
       "    </tr>\n",
       "  </thead>\n",
       "  <tbody>\n",
       "    <tr>\n",
       "      <th>0</th>\n",
       "      <td>I36gCt3wR-pu-zNzghNYcA</td>\n",
       "      <td>14</td>\n",
       "    </tr>\n",
       "    <tr>\n",
       "      <th>1</th>\n",
       "      <td>o-MqFF5GrUnDAM2TN8KE1w</td>\n",
       "      <td>14</td>\n",
       "    </tr>\n",
       "    <tr>\n",
       "      <th>2</th>\n",
       "      <td>kFTv7S3SN5u9kLWP65m5Dg</td>\n",
       "      <td>91</td>\n",
       "    </tr>\n",
       "    <tr>\n",
       "      <th>3</th>\n",
       "      <td>0b3FXt-EgiwMvS4scwBKeA</td>\n",
       "      <td>578</td>\n",
       "    </tr>\n",
       "    <tr>\n",
       "      <th>4</th>\n",
       "      <td>0r4_-ol2FoAOk8Tsx4qcig</td>\n",
       "      <td>99</td>\n",
       "    </tr>\n",
       "  </tbody>\n",
       "</table>\n",
       "</div>"
      ],
      "text/plain": [
       "                     user  count\n",
       "0  I36gCt3wR-pu-zNzghNYcA     14\n",
       "1  o-MqFF5GrUnDAM2TN8KE1w     14\n",
       "2  kFTv7S3SN5u9kLWP65m5Dg     91\n",
       "3  0b3FXt-EgiwMvS4scwBKeA    578\n",
       "4  0r4_-ol2FoAOk8Tsx4qcig     99"
      ]
     },
     "execution_count": 63,
     "metadata": {},
     "output_type": "execute_result"
    }
   ],
   "source": [
    "# Handle both target and source \n",
    "# Combine source and target columns into a single column\n",
    "all_users = edges.select(col(\"source\").alias(\"user\")).union(edges.select(col(\"target\").alias(\"user\")))\n",
    "\n",
    "# Count occurrences of each user\n",
    "friend_counts = all_users.groupBy(\"user\").count()\n",
    "\n",
    "friend_counts.limit(5).toPandas()"
   ]
  },
  {
   "cell_type": "code",
   "execution_count": 64,
   "metadata": {},
   "outputs": [
    {
     "name": "stdout",
     "output_type": "stream",
     "text": [
      "+--------------------+-----+\n",
      "|                user|count|\n",
      "+--------------------+-----+\n",
      "|Oi1qbcz2m2SnwUezt...| 5415|\n",
      "|YttDgOC9AlM4HcAlD...| 3974|\n",
      "|ZIOCmdFaMIF56FR-n...| 3833|\n",
      "|xirjSwnrFjF87rYT9...| 3440|\n",
      "|yLW8OrR8Ns4X1oXJm...| 3405|\n",
      "|XaMwHlRaUfsSjBewV...| 3269|\n",
      "|JjXuiru1_ONzDkYVr...| 3266|\n",
      "|mV4lknblF-zOKSF8n...| 3255|\n",
      "|9aPhTC34PILldShZH...| 3034|\n",
      "|8lEywHSvti2UjFP8O...| 3018|\n",
      "+--------------------+-----+\n",
      "\n"
     ]
    }
   ],
   "source": [
    "friend_counts.orderBy(col(\"count\").desc()).limit(10).show()"
   ]
  },
  {
   "cell_type": "code",
   "execution_count": 65,
   "metadata": {},
   "outputs": [
    {
     "data": {
      "image/png": "[encoded data removed]",
      "text/plain": [
       "<Figure size 720x432 with 1 Axes>"
      ]
     },
     "metadata": {
      "needs_background": "light"
     },
     "output_type": "display_data"
    }
   ],
   "source": [
    "#Distribution of friend counts with more than 1 friend\n",
    "friend_count_pd = friend_counts.select(\"count\").toPandas()\n",
    "# Plotting the distribution of friend counts\n",
    "plt.figure(figsize=(10, 6))\n",
    "plt.hist(friend_count_pd[\"count\"], bins=50, edgecolor='k', alpha=0.7, color = \"black\")\n",
    "plt.title('Distribution of Friend Counts with Friends Greater Than 1')\n",
    "plt.xlabel('Friend Count')\n",
    "plt.ylabel('Frequency')\n",
    "plt.grid(True)\n",
    "plt.savefig(\"Social_Networking_Project/Images/friend_distribution.png\")\n",
    "plt.show()"
   ]
  },
  {
   "cell_type": "code",
   "execution_count": 66,
   "metadata": {},
   "outputs": [
    {
     "data": {
      "image/png": "[encoded data removed]",
      "text/plain": [
       "<Figure size 720x432 with 1 Axes>"
      ]
     },
     "metadata": {
      "needs_background": "light"
     },
     "output_type": "display_data"
    }
   ],
   "source": [
    "plt.figure(figsize=(10, 6))\n",
    "plt.hist(friend_count_pd[\"count\"], bins=50, edgecolor='k', alpha=0.7, color='black')\n",
    "plt.title('Number of Friends Per User In Social Network')\n",
    "plt.xlabel('Friends')\n",
    "plt.ylabel('Log Frequency')\n",
    "plt.yscale('log')  # Set y-axis scale to logarithmic\n",
    "plt.grid(True)\n",
    "plt.savefig(\"Social_Networking_Project/Images/friend_distribution_logscale.png\")\n",
    "plt.show()"
   ]
  },
  {
   "cell_type": "code",
   "execution_count": 67,
   "metadata": {},
   "outputs": [
    {
     "name": "stdout",
     "output_type": "stream",
     "text": [
      "count: 248140.0\n",
      "mean: 34.020294994761024\n",
      "std: 91.49003586869362\n",
      "min: 1.0\n",
      "25%: 8.0\n",
      "50%: 16.0\n",
      "75%: 33.0\n",
      "max: 5415.0\n"
     ]
    }
   ],
   "source": [
    "stats = friend_count_pd[\"count\"].describe()\n",
    "for stat,value in stats.items():\n",
    "    print(f\"{stat}: {value}\")"
   ]
  }
 ],
 "metadata": {
  "kernelspec": {
   "display_name": "Python 3",
   "language": "python",
   "name": "python3"
  },
  "language_info": {
   "codemirror_mode": {
    "name": "ipython",
    "version": 3
   },
   "file_extension": ".py",
   "mimetype": "text/x-python",
   "name": "python",
   "nbconvert_exporter": "python",
   "pygments_lexer": "ipython3",
   "version": "3.7.4"
  }
 },
 "nbformat": 4,
 "nbformat_minor": 5
}
