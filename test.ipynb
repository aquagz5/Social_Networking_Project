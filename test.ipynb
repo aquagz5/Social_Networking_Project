{
 "cells": [
  {
   "cell_type": "code",
   "execution_count": 5,
   "metadata": {},
   "outputs": [],
   "source": [
    "import pandas as pd"
   ]
  },
  {
   "cell_type": "code",
   "execution_count": 9,
   "metadata": {},
   "outputs": [
    {
     "data": {
      "text/html": [
       "<div>\n",
       "<style scoped>\n",
       "    .dataframe tbody tr th:only-of-type {\n",
       "        vertical-align: middle;\n",
       "    }\n",
       "\n",
       "    .dataframe tbody tr th {\n",
       "        vertical-align: top;\n",
       "    }\n",
       "\n",
       "    .dataframe thead th {\n",
       "        text-align: right;\n",
       "    }\n",
       "</style>\n",
       "<table border=\"1\" class=\"dataframe\">\n",
       "  <thead>\n",
       "    <tr style=\"text-align: right;\">\n",
       "      <th></th>\n",
       "      <th>source</th>\n",
       "      <th>target</th>\n",
       "    </tr>\n",
       "  </thead>\n",
       "  <tbody>\n",
       "    <tr>\n",
       "      <th>0</th>\n",
       "      <td>xHzU9LKwxGHq7BNPA16gog</td>\n",
       "      <td>hRh68PE5x9ilwPf0EoIAww</td>\n",
       "    </tr>\n",
       "    <tr>\n",
       "      <th>1</th>\n",
       "      <td>aA0WQpDdksKuDafTGzJf_A</td>\n",
       "      <td>7i4vh4i-Z6a2zYS4RTBTlg</td>\n",
       "    </tr>\n",
       "    <tr>\n",
       "      <th>2</th>\n",
       "      <td>VWgWJiG462Ytm_rWMRxHiA</td>\n",
       "      <td>-WsAXw5yO-d9_pxFCOMHSA</td>\n",
       "    </tr>\n",
       "    <tr>\n",
       "      <th>3</th>\n",
       "      <td>eh03Ytv4exbW33L2erx1kA</td>\n",
       "      <td>fr1khdPlNptCgNKdNMv_9A</td>\n",
       "    </tr>\n",
       "    <tr>\n",
       "      <th>4</th>\n",
       "      <td>PWcDbTaoBcBtumbkS5gUJw</td>\n",
       "      <td>oXKibc10AXIMxS-OXUDY6w</td>\n",
       "    </tr>\n",
       "    <tr>\n",
       "      <th>...</th>\n",
       "      <td>...</td>\n",
       "      <td>...</td>\n",
       "    </tr>\n",
       "    <tr>\n",
       "      <th>1334197</th>\n",
       "      <td>idrz_9pJqk35macI3mfjVw</td>\n",
       "      <td>kfVPVar_bSgZ4Z5XOXVmXA</td>\n",
       "    </tr>\n",
       "    <tr>\n",
       "      <th>1334198</th>\n",
       "      <td>wfc7UT7S2ov3igCqW5TD5Q</td>\n",
       "      <td>Ku2Gy2SFqgyXTGSsBjKbuQ</td>\n",
       "    </tr>\n",
       "    <tr>\n",
       "      <th>1334199</th>\n",
       "      <td>y3SRNSyN4WJq6W1onPnmDg</td>\n",
       "      <td>Z8AwgMcrujpMuU4XG4yqRg</td>\n",
       "    </tr>\n",
       "    <tr>\n",
       "      <th>1334200</th>\n",
       "      <td>8_s6YuBPeR-gn4UbMtfKMQ</td>\n",
       "      <td>_-AKdMKl4obWzkxQxBIFDg</td>\n",
       "    </tr>\n",
       "    <tr>\n",
       "      <th>1334201</th>\n",
       "      <td>UAHwMi3sd2BYRu_BENN-Tw</td>\n",
       "      <td>QwY0oVhs-l5xKZKeOw3_Yw</td>\n",
       "    </tr>\n",
       "  </tbody>\n",
       "</table>\n",
       "<p>1334202 rows × 2 columns</p>\n",
       "</div>"
      ],
      "text/plain": [
       "                         source                  target\n",
       "0        xHzU9LKwxGHq7BNPA16gog  hRh68PE5x9ilwPf0EoIAww\n",
       "1        aA0WQpDdksKuDafTGzJf_A  7i4vh4i-Z6a2zYS4RTBTlg\n",
       "2        VWgWJiG462Ytm_rWMRxHiA  -WsAXw5yO-d9_pxFCOMHSA\n",
       "3        eh03Ytv4exbW33L2erx1kA  fr1khdPlNptCgNKdNMv_9A\n",
       "4        PWcDbTaoBcBtumbkS5gUJw  oXKibc10AXIMxS-OXUDY6w\n",
       "...                         ...                     ...\n",
       "1334197  idrz_9pJqk35macI3mfjVw  kfVPVar_bSgZ4Z5XOXVmXA\n",
       "1334198  wfc7UT7S2ov3igCqW5TD5Q  Ku2Gy2SFqgyXTGSsBjKbuQ\n",
       "1334199  y3SRNSyN4WJq6W1onPnmDg  Z8AwgMcrujpMuU4XG4yqRg\n",
       "1334200  8_s6YuBPeR-gn4UbMtfKMQ  _-AKdMKl4obWzkxQxBIFDg\n",
       "1334201  UAHwMi3sd2BYRu_BENN-Tw  QwY0oVhs-l5xKZKeOw3_Yw\n",
       "\n",
       "[1334202 rows x 2 columns]"
      ]
     },
     "execution_count": 9,
     "metadata": {},
     "output_type": "execute_result"
    }
   ],
   "source": [
    "x = pd.read_parquet('./data/node_attributes.parquet')\n",
    "y = pd.read_parquet('./data/edges.parquet')\n",
    "x\n",
    "y"
   ]
  },
  {
   "cell_type": "code",
   "execution_count": 11,
   "metadata": {},
   "outputs": [
    {
     "data": {
      "text/html": [
       "<div>\n",
       "<style scoped>\n",
       "    .dataframe tbody tr th:only-of-type {\n",
       "        vertical-align: middle;\n",
       "    }\n",
       "\n",
       "    .dataframe tbody tr th {\n",
       "        vertical-align: top;\n",
       "    }\n",
       "\n",
       "    .dataframe thead th {\n",
       "        text-align: right;\n",
       "    }\n",
       "</style>\n",
       "<table border=\"1\" class=\"dataframe\">\n",
       "  <thead>\n",
       "    <tr style=\"text-align: right;\">\n",
       "      <th></th>\n",
       "      <th>source</th>\n",
       "      <th>target</th>\n",
       "    </tr>\n",
       "  </thead>\n",
       "  <tbody>\n",
       "    <tr>\n",
       "      <th>0</th>\n",
       "      <td>xHzU9LKwxGHq7BNPA16gog</td>\n",
       "      <td>hRh68PE5x9ilwPf0EoIAww</td>\n",
       "    </tr>\n",
       "  </tbody>\n",
       "</table>\n",
       "</div>"
      ],
      "text/plain": [
       "                   source                  target\n",
       "0  xHzU9LKwxGHq7BNPA16gog  hRh68PE5x9ilwPf0EoIAww"
      ]
     },
     "execution_count": 11,
     "metadata": {},
     "output_type": "execute_result"
    }
   ],
   "source": [
    "y.loc[(y['source'] == 'xHzU9LKwxGHq7BNPA16gog') & (y['target'] == 'hRh68PE5x9ilwPf0EoIAww'),:]"
   ]
  },
  {
   "cell_type": "code",
   "execution_count": 12,
   "metadata": {},
   "outputs": [
    {
     "data": {
      "text/html": [
       "<div>\n",
       "<style scoped>\n",
       "    .dataframe tbody tr th:only-of-type {\n",
       "        vertical-align: middle;\n",
       "    }\n",
       "\n",
       "    .dataframe tbody tr th {\n",
       "        vertical-align: top;\n",
       "    }\n",
       "\n",
       "    .dataframe thead th {\n",
       "        text-align: right;\n",
       "    }\n",
       "</style>\n",
       "<table border=\"1\" class=\"dataframe\">\n",
       "  <thead>\n",
       "    <tr style=\"text-align: right;\">\n",
       "      <th></th>\n",
       "      <th>source</th>\n",
       "      <th>target</th>\n",
       "    </tr>\n",
       "  </thead>\n",
       "  <tbody>\n",
       "    <tr>\n",
       "      <th>227287</th>\n",
       "      <td>hRh68PE5x9ilwPf0EoIAww</td>\n",
       "      <td>xHzU9LKwxGHq7BNPA16gog</td>\n",
       "    </tr>\n",
       "  </tbody>\n",
       "</table>\n",
       "</div>"
      ],
      "text/plain": [
       "                        source                  target\n",
       "227287  hRh68PE5x9ilwPf0EoIAww  xHzU9LKwxGHq7BNPA16gog"
      ]
     },
     "execution_count": 12,
     "metadata": {},
     "output_type": "execute_result"
    }
   ],
   "source": [
    "y.loc[(y['source'] == 'hRh68PE5x9ilwPf0EoIAww') & (y['target'] == 'xHzU9LKwxGHq7BNPA16gog'),:]"
   ]
  },
  {
   "cell_type": "code",
   "execution_count": 8,
   "metadata": {},
   "outputs": [
    {
     "data": {
      "text/plain": [
       "count    250261.000000\n",
       "mean          0.188076\n",
       "std           1.323888\n",
       "min           0.000000\n",
       "25%           0.000000\n",
       "50%           0.000000\n",
       "75%           0.000000\n",
       "max         160.000000\n",
       "Name: Home_Services, dtype: float64"
      ]
     },
     "execution_count": 8,
     "metadata": {},
     "output_type": "execute_result"
    }
   ],
   "source": [
    "x['Home_Services'].describe()"
   ]
  },
  {
   "cell_type": "code",
   "execution_count": 17,
   "metadata": {},
   "outputs": [
    {
     "data": {
      "text/plain": [
       "True"
      ]
     },
     "execution_count": 17,
     "metadata": {},
     "output_type": "execute_result"
    }
   ],
   "source": [
    "import numpy as np\n",
    "all(y.groupby(['source', 'target']).size().unique()) == 1"
   ]
  },
  {
   "cell_type": "code",
   "execution_count": 18,
   "metadata": {},
   "outputs": [],
   "source": [
    "import torch"
   ]
  },
  {
   "cell_type": "code",
   "execution_count": 26,
   "metadata": {},
   "outputs": [
    {
     "data": {
      "text/html": [
       "<div>\n",
       "<style scoped>\n",
       "    .dataframe tbody tr th:only-of-type {\n",
       "        vertical-align: middle;\n",
       "    }\n",
       "\n",
       "    .dataframe tbody tr th {\n",
       "        vertical-align: top;\n",
       "    }\n",
       "\n",
       "    .dataframe thead th {\n",
       "        text-align: right;\n",
       "    }\n",
       "</style>\n",
       "<table border=\"1\" class=\"dataframe\">\n",
       "  <thead>\n",
       "    <tr style=\"text-align: right;\">\n",
       "      <th></th>\n",
       "      <th>source</th>\n",
       "      <th>target</th>\n",
       "    </tr>\n",
       "  </thead>\n",
       "  <tbody>\n",
       "    <tr>\n",
       "      <th>0</th>\n",
       "      <td>0</td>\n",
       "      <td>0</td>\n",
       "    </tr>\n",
       "    <tr>\n",
       "      <th>1</th>\n",
       "      <td>1</td>\n",
       "      <td>-1</td>\n",
       "    </tr>\n",
       "    <tr>\n",
       "      <th>2</th>\n",
       "      <td>2</td>\n",
       "      <td>-2</td>\n",
       "    </tr>\n",
       "    <tr>\n",
       "      <th>3</th>\n",
       "      <td>3</td>\n",
       "      <td>-3</td>\n",
       "    </tr>\n",
       "    <tr>\n",
       "      <th>4</th>\n",
       "      <td>4</td>\n",
       "      <td>-4</td>\n",
       "    </tr>\n",
       "    <tr>\n",
       "      <th>...</th>\n",
       "      <td>...</td>\n",
       "      <td>...</td>\n",
       "    </tr>\n",
       "    <tr>\n",
       "      <th>1334197</th>\n",
       "      <td>1334197</td>\n",
       "      <td>-1334197</td>\n",
       "    </tr>\n",
       "    <tr>\n",
       "      <th>1334198</th>\n",
       "      <td>1334198</td>\n",
       "      <td>-1334198</td>\n",
       "    </tr>\n",
       "    <tr>\n",
       "      <th>1334199</th>\n",
       "      <td>1334199</td>\n",
       "      <td>-1334199</td>\n",
       "    </tr>\n",
       "    <tr>\n",
       "      <th>1334200</th>\n",
       "      <td>1334200</td>\n",
       "      <td>-1334200</td>\n",
       "    </tr>\n",
       "    <tr>\n",
       "      <th>1334201</th>\n",
       "      <td>1334201</td>\n",
       "      <td>-1334201</td>\n",
       "    </tr>\n",
       "  </tbody>\n",
       "</table>\n",
       "<p>1334202 rows × 2 columns</p>\n",
       "</div>"
      ],
      "text/plain": [
       "          source   target\n",
       "0              0        0\n",
       "1              1       -1\n",
       "2              2       -2\n",
       "3              3       -3\n",
       "4              4       -4\n",
       "...          ...      ...\n",
       "1334197  1334197 -1334197\n",
       "1334198  1334198 -1334198\n",
       "1334199  1334199 -1334199\n",
       "1334200  1334200 -1334200\n",
       "1334201  1334201 -1334201\n",
       "\n",
       "[1334202 rows x 2 columns]"
      ]
     },
     "execution_count": 26,
     "metadata": {},
     "output_type": "execute_result"
    }
   ],
   "source": [
    "y['source'] = [i for i in range(len(y))]\n",
    "y['target'] = [i*-1 for i in range(len(y))]\n",
    "y"
   ]
  },
  {
   "cell_type": "code",
   "execution_count": 28,
   "metadata": {},
   "outputs": [
    {
     "data": {
      "text/plain": [
       "tensor([[       0,        1,        2,  ...,  1334199,  1334200,  1334201],\n",
       "        [       0,       -1,       -2,  ..., -1334199, -1334200, -1334201]])"
      ]
     },
     "execution_count": 28,
     "metadata": {},
     "output_type": "execute_result"
    }
   ],
   "source": [
    "torch.tensor(y[['source', 'target']].values, dtype=torch.long).t().contiguous()"
   ]
  },
  {
   "cell_type": "code",
   "execution_count": null,
   "metadata": {},
   "outputs": [],
   "source": []
  }
 ],
 "metadata": {
  "kernelspec": {
   "display_name": "Python 3",
   "language": "python",
   "name": "python3"
  },
  "language_info": {
   "codemirror_mode": {
    "name": "ipython",
    "version": 3
   },
   "file_extension": ".py",
   "mimetype": "text/x-python",
   "name": "python",
   "nbconvert_exporter": "python",
   "pygments_lexer": "ipython3",
   "version": "3.9.6"
  }
 },
 "nbformat": 4,
 "nbformat_minor": 2
}
