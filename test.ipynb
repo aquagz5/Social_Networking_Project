{
 "cells": [
  {
   "cell_type": "code",
   "execution_count": 5,
   "metadata": {},
   "outputs": [],
   "source": [
    "import pandas as pd"
   ]
  },
  {
   "cell_type": "code",
   "execution_count": 31,
   "metadata": {},
   "outputs": [],
   "source": [
    "x = pd.read_parquet('./data/attributes.parquet')\n",
    "y = pd.read_parquet('./data/edges_double.parquet')"
   ]
  },
  {
   "cell_type": "code",
   "execution_count": 33,
   "metadata": {},
   "outputs": [
    {
     "data": {
      "text/html": [
       "<div>\n",
       "<style scoped>\n",
       "    .dataframe tbody tr th:only-of-type {\n",
       "        vertical-align: middle;\n",
       "    }\n",
       "\n",
       "    .dataframe tbody tr th {\n",
       "        vertical-align: top;\n",
       "    }\n",
       "\n",
       "    .dataframe thead th {\n",
       "        text-align: right;\n",
       "    }\n",
       "</style>\n",
       "<table border=\"1\" class=\"dataframe\">\n",
       "  <thead>\n",
       "    <tr style=\"text-align: right;\">\n",
       "      <th></th>\n",
       "      <th>source</th>\n",
       "      <th>target</th>\n",
       "    </tr>\n",
       "  </thead>\n",
       "  <tbody>\n",
       "    <tr>\n",
       "      <th>0</th>\n",
       "      <td>--17Db1K-KujRuN7hY9Z0Q</td>\n",
       "      <td>REnIBVutnk7CBmy8auVGqg</td>\n",
       "    </tr>\n",
       "    <tr>\n",
       "      <th>1</th>\n",
       "      <td>--17Db1K-KujRuN7hY9Z0Q</td>\n",
       "      <td>bGu1K8WWpAWpYPCjFttiDg</td>\n",
       "    </tr>\n",
       "    <tr>\n",
       "      <th>2</th>\n",
       "      <td>--17Db1K-KujRuN7hY9Z0Q</td>\n",
       "      <td>ggl6fl-PM5O1WrdReL0l4A</td>\n",
       "    </tr>\n",
       "    <tr>\n",
       "      <th>3</th>\n",
       "      <td>uIv-QohIyddQA6JMXWsaTA</td>\n",
       "      <td>--17Db1K-KujRuN7hY9Z0Q</td>\n",
       "    </tr>\n",
       "    <tr>\n",
       "      <th>4</th>\n",
       "      <td>--238OiSJBDIhfqcSOQyMA</td>\n",
       "      <td>_jfMNGIbiYgyY6HEfREjXw</td>\n",
       "    </tr>\n",
       "    <tr>\n",
       "      <th>...</th>\n",
       "      <td>...</td>\n",
       "      <td>...</td>\n",
       "    </tr>\n",
       "    <tr>\n",
       "      <th>8441791</th>\n",
       "      <td>zriyJyhkEWH0f0hk5eHu1Q</td>\n",
       "      <td>zGrKK9UWL4p1E3GHNVXoIQ</td>\n",
       "    </tr>\n",
       "    <tr>\n",
       "      <th>8441792</th>\n",
       "      <td>zko28JTulmrNgDnByUK0xA</td>\n",
       "      <td>zHSYjtAIoEChJgkl6TzOGw</td>\n",
       "    </tr>\n",
       "    <tr>\n",
       "      <th>8441793</th>\n",
       "      <td>zUUnDptw_2z002U7jCnsnQ</td>\n",
       "      <td>zML2SHZTEiB1KFxaSjEfpA</td>\n",
       "    </tr>\n",
       "    <tr>\n",
       "      <th>8441794</th>\n",
       "      <td>zysPNXSzrvLZvHy2ucBGIg</td>\n",
       "      <td>zPAt3RRjczFvA_5LBIrLjg</td>\n",
       "    </tr>\n",
       "    <tr>\n",
       "      <th>8441795</th>\n",
       "      <td>znQGlrArNjDOWn3N6FQLTw</td>\n",
       "      <td>zawbpiWKCq-vEHsPUGASow</td>\n",
       "    </tr>\n",
       "  </tbody>\n",
       "</table>\n",
       "<p>8441796 rows × 2 columns</p>\n",
       "</div>"
      ],
      "text/plain": [
       "                         source                  target\n",
       "0        --17Db1K-KujRuN7hY9Z0Q  REnIBVutnk7CBmy8auVGqg\n",
       "1        --17Db1K-KujRuN7hY9Z0Q  bGu1K8WWpAWpYPCjFttiDg\n",
       "2        --17Db1K-KujRuN7hY9Z0Q  ggl6fl-PM5O1WrdReL0l4A\n",
       "3        uIv-QohIyddQA6JMXWsaTA  --17Db1K-KujRuN7hY9Z0Q\n",
       "4        --238OiSJBDIhfqcSOQyMA  _jfMNGIbiYgyY6HEfREjXw\n",
       "...                         ...                     ...\n",
       "8441791  zriyJyhkEWH0f0hk5eHu1Q  zGrKK9UWL4p1E3GHNVXoIQ\n",
       "8441792  zko28JTulmrNgDnByUK0xA  zHSYjtAIoEChJgkl6TzOGw\n",
       "8441793  zUUnDptw_2z002U7jCnsnQ  zML2SHZTEiB1KFxaSjEfpA\n",
       "8441794  zysPNXSzrvLZvHy2ucBGIg  zPAt3RRjczFvA_5LBIrLjg\n",
       "8441795  znQGlrArNjDOWn3N6FQLTw  zawbpiWKCq-vEHsPUGASow\n",
       "\n",
       "[8441796 rows x 2 columns]"
      ]
     },
     "execution_count": 33,
     "metadata": {},
     "output_type": "execute_result"
    }
   ],
   "source": [
    "y"
   ]
  },
  {
   "cell_type": "code",
   "execution_count": 38,
   "metadata": {},
   "outputs": [
    {
     "data": {
      "text/plain": [
       "250261"
      ]
     },
     "execution_count": 38,
     "metadata": {},
     "output_type": "execute_result"
    }
   ],
   "source": [
    "x['user_id'].unique().size"
   ]
  },
  {
   "cell_type": "code",
   "execution_count": 39,
   "metadata": {},
   "outputs": [
    {
     "data": {
      "text/plain": [
       "248140"
      ]
     },
     "execution_count": 39,
     "metadata": {},
     "output_type": "execute_result"
    }
   ],
   "source": [
    "y['source'].unique().size"
   ]
  },
  {
   "cell_type": "code",
   "execution_count": 41,
   "metadata": {},
   "outputs": [],
   "source": [
    "keep = y['target'].unique()"
   ]
  },
  {
   "cell_type": "code",
   "execution_count": 42,
   "metadata": {},
   "outputs": [],
   "source": [
    "x = x.loc[x['user_id'].isin(keep), :]"
   ]
  },
  {
   "cell_type": "code",
   "execution_count": 43,
   "metadata": {},
   "outputs": [
    {
     "data": {
      "text/plain": [
       "248140"
      ]
     },
     "execution_count": 43,
     "metadata": {},
     "output_type": "execute_result"
    }
   ],
   "source": [
    "x['user_id'].unique().size"
   ]
  },
  {
   "cell_type": "code",
   "execution_count": 44,
   "metadata": {},
   "outputs": [],
   "source": [
    "x.to_parquet('./data/node_attributes.parquet')"
   ]
  },
  {
   "cell_type": "code",
   "execution_count": 35,
   "metadata": {},
   "outputs": [
    {
     "data": {
      "text/html": [
       "<div>\n",
       "<style scoped>\n",
       "    .dataframe tbody tr th:only-of-type {\n",
       "        vertical-align: middle;\n",
       "    }\n",
       "\n",
       "    .dataframe tbody tr th {\n",
       "        vertical-align: top;\n",
       "    }\n",
       "\n",
       "    .dataframe thead th {\n",
       "        text-align: right;\n",
       "    }\n",
       "</style>\n",
       "<table border=\"1\" class=\"dataframe\">\n",
       "  <thead>\n",
       "    <tr style=\"text-align: right;\">\n",
       "      <th></th>\n",
       "      <th>source</th>\n",
       "      <th>target</th>\n",
       "    </tr>\n",
       "  </thead>\n",
       "  <tbody>\n",
       "    <tr>\n",
       "      <th>0</th>\n",
       "      <td>--17Db1K-KujRuN7hY9Z0Q</td>\n",
       "      <td>REnIBVutnk7CBmy8auVGqg</td>\n",
       "    </tr>\n",
       "  </tbody>\n",
       "</table>\n",
       "</div>"
      ],
      "text/plain": [
       "                   source                  target\n",
       "0  --17Db1K-KujRuN7hY9Z0Q  REnIBVutnk7CBmy8auVGqg"
      ]
     },
     "execution_count": 35,
     "metadata": {},
     "output_type": "execute_result"
    }
   ],
   "source": [
    "y.loc[(y['source'] == '--17Db1K-KujRuN7hY9Z0Q') & (y['target'] == 'REnIBVutnk7CBmy8auVGqg'),:]"
   ]
  },
  {
   "cell_type": "code",
   "execution_count": 36,
   "metadata": {},
   "outputs": [
    {
     "data": {
      "text/html": [
       "<div>\n",
       "<style scoped>\n",
       "    .dataframe tbody tr th:only-of-type {\n",
       "        vertical-align: middle;\n",
       "    }\n",
       "\n",
       "    .dataframe tbody tr th {\n",
       "        vertical-align: top;\n",
       "    }\n",
       "\n",
       "    .dataframe thead th {\n",
       "        text-align: right;\n",
       "    }\n",
       "</style>\n",
       "<table border=\"1\" class=\"dataframe\">\n",
       "  <thead>\n",
       "    <tr style=\"text-align: right;\">\n",
       "      <th></th>\n",
       "      <th>source</th>\n",
       "      <th>target</th>\n",
       "    </tr>\n",
       "  </thead>\n",
       "  <tbody>\n",
       "    <tr>\n",
       "      <th>4220898</th>\n",
       "      <td>REnIBVutnk7CBmy8auVGqg</td>\n",
       "      <td>--17Db1K-KujRuN7hY9Z0Q</td>\n",
       "    </tr>\n",
       "  </tbody>\n",
       "</table>\n",
       "</div>"
      ],
      "text/plain": [
       "                         source                  target\n",
       "4220898  REnIBVutnk7CBmy8auVGqg  --17Db1K-KujRuN7hY9Z0Q"
      ]
     },
     "execution_count": 36,
     "metadata": {},
     "output_type": "execute_result"
    }
   ],
   "source": [
    "y.loc[(y['source'] == 'REnIBVutnk7CBmy8auVGqg') & (y['target'] == '--17Db1K-KujRuN7hY9Z0Q'),:]"
   ]
  },
  {
   "cell_type": "code",
   "execution_count": 8,
   "metadata": {},
   "outputs": [
    {
     "data": {
      "text/plain": [
       "count    250261.000000\n",
       "mean          0.188076\n",
       "std           1.323888\n",
       "min           0.000000\n",
       "25%           0.000000\n",
       "50%           0.000000\n",
       "75%           0.000000\n",
       "max         160.000000\n",
       "Name: Home_Services, dtype: float64"
      ]
     },
     "execution_count": 8,
     "metadata": {},
     "output_type": "execute_result"
    }
   ],
   "source": [
    "x['Home_Services'].describe()"
   ]
  },
  {
   "cell_type": "code",
   "execution_count": 17,
   "metadata": {},
   "outputs": [
    {
     "data": {
      "text/plain": [
       "True"
      ]
     },
     "execution_count": 17,
     "metadata": {},
     "output_type": "execute_result"
    }
   ],
   "source": [
    "import numpy as np\n",
    "all(y.groupby(['source', 'target']).size().unique()) == 1"
   ]
  },
  {
   "cell_type": "code",
   "execution_count": 18,
   "metadata": {},
   "outputs": [],
   "source": [
    "import torch"
   ]
  },
  {
   "cell_type": "code",
   "execution_count": 26,
   "metadata": {},
   "outputs": [
    {
     "data": {
      "text/html": [
       "<div>\n",
       "<style scoped>\n",
       "    .dataframe tbody tr th:only-of-type {\n",
       "        vertical-align: middle;\n",
       "    }\n",
       "\n",
       "    .dataframe tbody tr th {\n",
       "        vertical-align: top;\n",
       "    }\n",
       "\n",
       "    .dataframe thead th {\n",
       "        text-align: right;\n",
       "    }\n",
       "</style>\n",
       "<table border=\"1\" class=\"dataframe\">\n",
       "  <thead>\n",
       "    <tr style=\"text-align: right;\">\n",
       "      <th></th>\n",
       "      <th>source</th>\n",
       "      <th>target</th>\n",
       "    </tr>\n",
       "  </thead>\n",
       "  <tbody>\n",
       "    <tr>\n",
       "      <th>0</th>\n",
       "      <td>0</td>\n",
       "      <td>0</td>\n",
       "    </tr>\n",
       "    <tr>\n",
       "      <th>1</th>\n",
       "      <td>1</td>\n",
       "      <td>-1</td>\n",
       "    </tr>\n",
       "    <tr>\n",
       "      <th>2</th>\n",
       "      <td>2</td>\n",
       "      <td>-2</td>\n",
       "    </tr>\n",
       "    <tr>\n",
       "      <th>3</th>\n",
       "      <td>3</td>\n",
       "      <td>-3</td>\n",
       "    </tr>\n",
       "    <tr>\n",
       "      <th>4</th>\n",
       "      <td>4</td>\n",
       "      <td>-4</td>\n",
       "    </tr>\n",
       "    <tr>\n",
       "      <th>...</th>\n",
       "      <td>...</td>\n",
       "      <td>...</td>\n",
       "    </tr>\n",
       "    <tr>\n",
       "      <th>1334197</th>\n",
       "      <td>1334197</td>\n",
       "      <td>-1334197</td>\n",
       "    </tr>\n",
       "    <tr>\n",
       "      <th>1334198</th>\n",
       "      <td>1334198</td>\n",
       "      <td>-1334198</td>\n",
       "    </tr>\n",
       "    <tr>\n",
       "      <th>1334199</th>\n",
       "      <td>1334199</td>\n",
       "      <td>-1334199</td>\n",
       "    </tr>\n",
       "    <tr>\n",
       "      <th>1334200</th>\n",
       "      <td>1334200</td>\n",
       "      <td>-1334200</td>\n",
       "    </tr>\n",
       "    <tr>\n",
       "      <th>1334201</th>\n",
       "      <td>1334201</td>\n",
       "      <td>-1334201</td>\n",
       "    </tr>\n",
       "  </tbody>\n",
       "</table>\n",
       "<p>1334202 rows × 2 columns</p>\n",
       "</div>"
      ],
      "text/plain": [
       "          source   target\n",
       "0              0        0\n",
       "1              1       -1\n",
       "2              2       -2\n",
       "3              3       -3\n",
       "4              4       -4\n",
       "...          ...      ...\n",
       "1334197  1334197 -1334197\n",
       "1334198  1334198 -1334198\n",
       "1334199  1334199 -1334199\n",
       "1334200  1334200 -1334200\n",
       "1334201  1334201 -1334201\n",
       "\n",
       "[1334202 rows x 2 columns]"
      ]
     },
     "execution_count": 26,
     "metadata": {},
     "output_type": "execute_result"
    }
   ],
   "source": [
    "y['source'] = [i for i in range(len(y))]\n",
    "y['target'] = [i*-1 for i in range(len(y))]\n",
    "y"
   ]
  },
  {
   "cell_type": "code",
   "execution_count": 28,
   "metadata": {},
   "outputs": [
    {
     "data": {
      "text/plain": [
       "tensor([[       0,        1,        2,  ...,  1334199,  1334200,  1334201],\n",
       "        [       0,       -1,       -2,  ..., -1334199, -1334200, -1334201]])"
      ]
     },
     "execution_count": 28,
     "metadata": {},
     "output_type": "execute_result"
    }
   ],
   "source": [
    "torch.tensor(y[['source', 'target']].values, dtype=torch.long).t().contiguous()"
   ]
  },
  {
   "cell_type": "code",
   "execution_count": 45,
   "metadata": {},
   "outputs": [],
   "source": [
    "x = np.array([3])"
   ]
  },
  {
   "cell_type": "code",
   "execution_count": 48,
   "metadata": {},
   "outputs": [
    {
     "name": "stdout",
     "output_type": "stream",
     "text": [
      "hey\n"
     ]
    }
   ],
   "source": [
    "if x:\n",
    "    print('hey')"
   ]
  },
  {
   "cell_type": "code",
   "execution_count": null,
   "metadata": {},
   "outputs": [],
   "source": []
  }
 ],
 "metadata": {
  "kernelspec": {
   "display_name": "Python 3",
   "language": "python",
   "name": "python3"
  },
  "language_info": {
   "codemirror_mode": {
    "name": "ipython",
    "version": 3
   },
   "file_extension": ".py",
   "mimetype": "text/x-python",
   "name": "python",
   "nbconvert_exporter": "python",
   "pygments_lexer": "ipython3",
   "version": "3.9.6"
  }
 },
 "nbformat": 4,
 "nbformat_minor": 2
}
