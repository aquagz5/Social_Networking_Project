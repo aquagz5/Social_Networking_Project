{
 "cells": [
  {
   "cell_type": "code",
   "execution_count": 3,
   "id": "e6114f86",
   "metadata": {},
   "outputs": [],
   "source": [
    "import subprocess\n",
    "def run_command(command):\n",
    "    process = subprocess.Popen(command, shell=True, stdout=subprocess.PIPE, stderr=subprocess.STDOUT)\n",
    "    while True:\n",
    "        output = process.stdout.readline()\n",
    "        if not output:\n",
    "            break\n",
    "        print(output.strip().decode())"
   ]
  },
  {
   "cell_type": "code",
   "execution_count": 9,
   "id": "eaa06c19",
   "metadata": {},
   "outputs": [],
   "source": [
    "import os\n",
    "dropout_layer = [0.2, 0.3, 0.4]\n",
    "hidden_dim = [100, 200, 300]\n",
    "num_layers = [2,3,4,5]\n",
    "weight_decay = [0,0.01]\n",
    "learning_rate =[0.01, 0.05]\n",
    "\n",
    "counter = 1\n",
    "\n",
    "for dropout in dropout_layer:\n",
    "    for dim in hidden_dim:\n",
    "        for layers in num_layers:\n",
    "            for decay in weight_decay:\n",
    "                for rate in learning_rate:\n",
    "                    print(f\"Training Model: {counter}---------------------------------------------\\n\\n\\n\")\n",
    "                    if os.path.exists(f\"evaluation/GCNLinkPrediction{counter}_eval.json\"):\n",
    "                        print(f\"Skipping {counter} as it is already complete-----------------------------\\n\")\n",
    "                        print(dropout,dim,layers,decay,rate)\n",
    "                    else:\n",
    "                        train_command = f\"python train.py --dropout {dropout} --hidden_dim {dim} --num_layers {layers} --weight_decay {decay} --learning_rate {rate} --counter {counter}\"\n",
    "                        predict_command = f\"python predict.py --dropout {dropout} --hidden_dim {dim} --num_layers {layers} --weight_decay {decay} --learning_rate {rate} --counter {counter}\"\n",
    "\n",
    "                        # Run train command\n",
    "                        run_command(train_command)\n",
    "\n",
    "                        # Run predict command\n",
    "                        run_command(predict_command)\n",
    "                    counter += 1"
   ]
  },
  {
   "cell_type": "code",
   "execution_count": 22,
   "id": "2b90c746",
   "metadata": {},
   "outputs": [],
   "source": [
    "#find the best model\n",
    "import os\n",
    "import json\n",
    "directory = \"evaluation/\"\n",
    "\n",
    "files = os.listdir(directory)\n",
    "json_files = [file for file in files if file.endswith('.json')]\n",
    "\n",
    "best_model_number = 0\n",
    "hit_ratio = 0\n",
    "\n",
    "for json_file in json_files:\n",
    "    try:\n",
    "        with open(f\"evaluation/{json_file}\", \"r\") as file:\n",
    "            data = json.load(file)\n",
    "        if data['hit_ratio'] > hit_ratio:\n",
    "            hit_ratio = data['hit_ratio']\n",
    "            best_model_number = data['Hyperparameters']['counter']\n",
    "    except:\n",
    "        continue"
   ]
  },
  {
   "cell_type": "code",
   "execution_count": 24,
   "id": "57cd4d83",
   "metadata": {},
   "outputs": [
    {
     "name": "stdout",
     "output_type": "stream",
     "text": [
      "0.1777066821784338\n",
      "5\n"
     ]
    }
   ],
   "source": [
    "print(hit_ratio)\n",
    "print(best_model_number)"
   ]
  },
  {
   "cell_type": "code",
   "execution_count": 26,
   "id": "72a2b866",
   "metadata": {},
   "outputs": [
    {
     "name": "stdout",
     "output_type": "stream",
     "text": [
      "{'model': 'GCNLinkPrediction5', 'max_test_set_friend_count': 811, 'num_test_set_users': 203702, 'hit_ratio_sample_size': 10000, 'hit_ratio': 0.1777066821784338, 'Hyperparameters': {'dropout': 0.2, 'hidden_dim': 100, 'num_layers': 3, 'weight_decay': 0.0, 'learning_rate': 0.01, 'counter': 5}}\n"
     ]
    }
   ],
   "source": [
    "with open(f\"evaluation/GCNLinkPrediction{best_model_number}_eval.json\", \"r\") as file:\n",
    "    data = json.load(file)\n",
    "    \n",
    "print(data)"
   ]
  },
  {
   "cell_type": "code",
   "execution_count": 28,
   "id": "44348ba1",
   "metadata": {},
   "outputs": [
    {
     "data": {
      "text/html": [
       "<div>\n",
       "<style scoped>\n",
       "    .dataframe tbody tr th:only-of-type {\n",
       "        vertical-align: middle;\n",
       "    }\n",
       "\n",
       "    .dataframe tbody tr th {\n",
       "        vertical-align: top;\n",
       "    }\n",
       "\n",
       "    .dataframe thead th {\n",
       "        text-align: right;\n",
       "    }\n",
       "</style>\n",
       "<table border=\"1\" class=\"dataframe\">\n",
       "  <thead>\n",
       "    <tr style=\"text-align: right;\">\n",
       "      <th></th>\n",
       "      <th>epoch</th>\n",
       "      <th>train_loss</th>\n",
       "      <th>validation_losses</th>\n",
       "      <th>test_loss</th>\n",
       "    </tr>\n",
       "  </thead>\n",
       "  <tbody>\n",
       "    <tr>\n",
       "      <th>0</th>\n",
       "      <td>1</td>\n",
       "      <td>0.733198</td>\n",
       "      <td>0.728930</td>\n",
       "      <td>0.615773</td>\n",
       "    </tr>\n",
       "    <tr>\n",
       "      <th>1</th>\n",
       "      <td>2</td>\n",
       "      <td>0.706003</td>\n",
       "      <td>0.689677</td>\n",
       "      <td>0.615773</td>\n",
       "    </tr>\n",
       "    <tr>\n",
       "      <th>2</th>\n",
       "      <td>3</td>\n",
       "      <td>0.676891</td>\n",
       "      <td>0.671871</td>\n",
       "      <td>0.615773</td>\n",
       "    </tr>\n",
       "    <tr>\n",
       "      <th>3</th>\n",
       "      <td>4</td>\n",
       "      <td>0.663189</td>\n",
       "      <td>0.659513</td>\n",
       "      <td>0.615773</td>\n",
       "    </tr>\n",
       "    <tr>\n",
       "      <th>4</th>\n",
       "      <td>5</td>\n",
       "      <td>0.653660</td>\n",
       "      <td>0.643465</td>\n",
       "      <td>0.615773</td>\n",
       "    </tr>\n",
       "    <tr>\n",
       "      <th>5</th>\n",
       "      <td>6</td>\n",
       "      <td>0.642285</td>\n",
       "      <td>0.626878</td>\n",
       "      <td>0.615773</td>\n",
       "    </tr>\n",
       "    <tr>\n",
       "      <th>6</th>\n",
       "      <td>7</td>\n",
       "      <td>0.630681</td>\n",
       "      <td>0.615870</td>\n",
       "      <td>0.615773</td>\n",
       "    </tr>\n",
       "  </tbody>\n",
       "</table>\n",
       "</div>"
      ],
      "text/plain": [
       "   epoch  train_loss  validation_losses  test_loss\n",
       "0      1    0.733198           0.728930   0.615773\n",
       "1      2    0.706003           0.689677   0.615773\n",
       "2      3    0.676891           0.671871   0.615773\n",
       "3      4    0.663189           0.659513   0.615773\n",
       "4      5    0.653660           0.643465   0.615773\n",
       "5      6    0.642285           0.626878   0.615773\n",
       "6      7    0.630681           0.615870   0.615773"
      ]
     },
     "metadata": {},
     "output_type": "display_data"
    }
   ],
   "source": [
    "import pandas as pd\n",
    "import matplotlib.pyplot as plt\n",
    "\n",
    "data_best = pd.read_csv(f\"evaluation/GCNLinkPrediction{best_model_number}_loss.csv\")\n",
    "display(data_best)"
   ]
  },
  {
   "cell_type": "code",
   "execution_count": 34,
   "id": "ddf8944e",
   "metadata": {},
   "outputs": [
    {
     "data": {
      "image/png": "[encoded data removed]",
      "text/plain": [
       "<Figure size 432x288 with 1 Axes>"
      ]
     },
     "metadata": {
      "needs_background": "light"
     },
     "output_type": "display_data"
    }
   ],
   "source": [
    "# Plot the data\n",
    "plt.plot(data_best['epoch'], data_best['train_loss'], color='black', label='Train Loss', linestyle='-')\n",
    "plt.plot(data_best['epoch'], data_best['validation_losses'], color='black', label='Validation Loss', linestyle='--')\n",
    "\n",
    "# Add legend\n",
    "plt.legend()\n",
    "\n",
    "# Add labels and title\n",
    "plt.xlabel('Epoch')\n",
    "plt.ylabel('Loss')\n",
    "plt.title('Loss vs Epoch for Best Model')\n",
    "\n",
    "# Display the plot\n",
    "plt.grid(True)\n",
    "plt.savefig(\"../Images/Epoch.png\")\n",
    "plt.show()"
   ]
  }
 ],
 "metadata": {
  "kernelspec": {
   "display_name": "Python 3 (ipykernel)",
   "language": "python",
   "name": "python3"
  },
  "language_info": {
   "codemirror_mode": {
    "name": "ipython",
    "version": 3
   },
   "file_extension": ".py",
   "mimetype": "text/x-python",
   "name": "python",
   "nbconvert_exporter": "python",
   "pygments_lexer": "ipython3",
   "version": "3.9.12"
  }
 },
 "nbformat": 4,
 "nbformat_minor": 5
}
