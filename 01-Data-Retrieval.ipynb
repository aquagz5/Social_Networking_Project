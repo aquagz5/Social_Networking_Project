{
 "cells": [
  {
   "cell_type": "markdown",
   "metadata": {},
   "source": [
    "# Data Retrieval\n",
    "\n",
    "The purpose of this notebook is to create a quick access notebook to read in the data files and to be run as a notebook for data analysis. \n",
    "\n",
    "For example, run the following code in a new notebook to retrieve data:\n",
    "\n",
    "%run Data-Retrieval.ipynb"
   ]
  },
  {
   "cell_type": "code",
   "execution_count": 1,
   "metadata": {},
   "outputs": [],
   "source": [
    "#Import Libraries\n",
    "from pyspark.sql import SparkSession\n",
    "from pyspark.sql.types import StructType, StructField, StringType, MapType, IntegerType, FloatType, DateType, TimestampType, ArrayType\n",
    "from pyspark.sql.functions import explode, col, map_keys, split, expr, lit, when, array, udf, coalesce, create_map\n",
    "\n",
    "import pandas as pd\n",
    "from IPython.display import Image\n",
    "import os"
   ]
  },
  {
   "cell_type": "code",
   "execution_count": 2,
   "metadata": {},
   "outputs": [
    {
     "name": "stderr",
     "output_type": "stream",
     "text": [
      "24/03/26 04:10:05 WARN SparkSession: Using an existing Spark session; only runtime SQL configurations will take effect.\n"
     ]
    }
   ],
   "source": [
    "# Define the application name\n",
    "app_name = \"FinalProject\"\n",
    "\n",
    "# Create a SparkSession with the specified application name\n",
    "spark = SparkSession.builder.appName(app_name).getOrCreate()\n",
    "\n",
    "# Retrieve the SparkContext\n",
    "sc = spark.sparkContext"
   ]
  },
  {
   "cell_type": "code",
   "execution_count": 3,
   "metadata": {},
   "outputs": [],
   "source": [
    "#Set up directory - Data must be placed \n",
    "#Set up directory - Data must be placed \n",
    "bucket_name =  'quagliam-bucket-milestone1' ### Change this to your bucket name\n",
    "proj_directory = f'gs://{bucket_name}/notebooks/jupyter/'"
   ]
  },
  {
   "cell_type": "markdown",
   "metadata": {},
   "source": [
    "## Business"
   ]
  },
  {
   "cell_type": "code",
   "execution_count": 4,
   "metadata": {},
   "outputs": [],
   "source": [
    "#Define Business Schema\n",
    "businessSchema = StructType([\n",
    "    StructField(\"business_id\", StringType(), True),\n",
    "    StructField(\"name\", StringType(), True),\n",
    "    StructField(\"address\", StringType(), True),\n",
    "    StructField(\"city\", StringType(), True),\n",
    "    StructField(\"state\", StringType(), True),\n",
    "    StructField(\"postal_code\", StringType(), True),\n",
    "    StructField(\"latitude\", FloatType(), True),\n",
    "    StructField(\"longitude\", FloatType(), True),\n",
    "    StructField(\"stars\", FloatType(), True),\n",
    "    StructField(\"review_count\", IntegerType(), True),\n",
    "    StructField(\"is_open\", IntegerType(), True),\n",
    "    StructField(\"attributes\", MapType(StringType(), StringType()), True), #Dictionary Data Type\n",
    "    StructField(\"categories\", StringType(), True),\n",
    "    StructField(\"hours\",MapType(StringType(), StringType()), True) #Dictionary Data Type\n",
    "])"
   ]
  },
  {
   "cell_type": "code",
   "execution_count": 5,
   "metadata": {},
   "outputs": [],
   "source": [
    "#Read dataframes\n",
    "business = spark.read.schema(businessSchema).json(f'{proj_directory}yelp_academic_dataset_business.json')\n",
    "#Change categories to an array of strings\n",
    "business = business.withColumn(\"categories\", split(business[\"categories\"], \", \"))"
   ]
  },
  {
   "cell_type": "markdown",
   "metadata": {},
   "source": [
    "## Review"
   ]
  },
  {
   "cell_type": "code",
   "execution_count": 8,
   "metadata": {},
   "outputs": [],
   "source": [
    "#Define Checkin review\n",
    "reviewSchema = StructType([\n",
    "    StructField(\"review_id\", StringType(), nullable=True),\n",
    "    StructField(\"user_id\", StringType(), nullable=True),\n",
    "    StructField(\"business_id\", StringType(), nullable=True),\n",
    "    StructField(\"stars\", FloatType(), nullable=True),\n",
    "    StructField(\"useful\", IntegerType(), nullable=True),\n",
    "    StructField(\"funny\", IntegerType(), nullable=True),\n",
    "    StructField(\"cool\", IntegerType(), nullable=True),\n",
    "    StructField(\"text\", StringType(), nullable=True),\n",
    "    StructField(\"date\", TimestampType(), nullable=True)\n",
    "])"
   ]
  },
  {
   "cell_type": "code",
   "execution_count": 9,
   "metadata": {},
   "outputs": [],
   "source": [
    "review = spark.read.schema(reviewSchema).json(f'{proj_directory}yelp_academic_dataset_review.json').cache()"
   ]
  },
  {
   "cell_type": "markdown",
   "metadata": {},
   "source": [
    "## User"
   ]
  },
  {
   "cell_type": "code",
   "execution_count": 12,
   "metadata": {},
   "outputs": [],
   "source": [
    "#Define user schema\n",
    "userSchema = StructType([\n",
    "    StructField(\"user_id\", StringType(), True),\n",
    "    StructField(\"name\", StringType(), True),\n",
    "    StructField(\"review_count\", IntegerType(), True),\n",
    "    StructField(\"yelping_since\", TimestampType(), True),\n",
    "    StructField(\"friends\", StringType(), True),\n",
    "    StructField(\"useful\", IntegerType(), True),\n",
    "    StructField(\"funny\", IntegerType(), True),\n",
    "    StructField(\"cool\", IntegerType(), True),\n",
    "    StructField(\"fans\", IntegerType(), True),\n",
    "    StructField(\"elite\", StringType(), True),\n",
    "    StructField(\"average_stars\", FloatType(), True),\n",
    "    StructField(\"compliment_hot\", IntegerType(), True),\n",
    "    StructField(\"compliment_more\", IntegerType(), True),\n",
    "    StructField(\"compliment_profile\", IntegerType(), True),\n",
    "    StructField(\"compliment_cute\", IntegerType(), True),\n",
    "    StructField(\"compliment_list\", IntegerType(), True),\n",
    "    StructField(\"compliment_note\", IntegerType(), True),\n",
    "    StructField(\"compliment_plain\", IntegerType(), True),\n",
    "    StructField(\"compliment_cool\", IntegerType(), True),\n",
    "    StructField(\"compliment_funny\", IntegerType(), True),\n",
    "    StructField(\"compliment_writer\", IntegerType(), True),\n",
    "    StructField(\"compliment_photos\", IntegerType(), True)\n",
    "])"
   ]
  },
  {
   "cell_type": "code",
   "execution_count": 13,
   "metadata": {},
   "outputs": [],
   "source": [
    "user = spark.read.schema(userSchema).json(f'{proj_directory}yelp_academic_dataset_user.json')\n",
    "user = user.withColumn(\"friends\", split(user[\"friends\"], \", \"))\n",
    "user = user.withColumn(\"elite\", split(user[\"elite\"], \",\")).cache()"
   ]
  },
  {
   "cell_type": "markdown",
   "metadata": {},
   "source": [
    "## Edgelist"
   ]
  },
  {
   "cell_type": "code",
   "execution_count": null,
   "metadata": {},
   "outputs": [],
   "source": [
    "edges = spark.read.parquet(f\"{proj_directory}/edges.parquet\")"
   ]
  }
 ],
 "metadata": {
  "kernelspec": {
   "display_name": "Python 3",
   "language": "python",
   "name": "python3"
  },
  "language_info": {
   "codemirror_mode": {
    "name": "ipython",
    "version": 3
   },
   "file_extension": ".py",
   "mimetype": "text/x-python",
   "name": "python",
   "nbconvert_exporter": "python",
   "pygments_lexer": "ipython3",
   "version": "3.7.4"
  }
 },
 "nbformat": 4,
 "nbformat_minor": 4
}
